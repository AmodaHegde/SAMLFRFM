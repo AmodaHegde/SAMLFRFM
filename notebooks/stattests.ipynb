{
 "cells": [
  {
   "cell_type": "code",
   "execution_count": 1,
   "id": "74ed349f-1eb5-4efa-977f-704e7149ef91",
   "metadata": {},
   "outputs": [],
   "source": [
    "from scipy.stats import kruskal\n",
    "import pandas as pd\n",
    "\n",
    "data = pd.read_csv(\"D:/SAMLFRFM/notebooks/model_metrics.csv\")"
   ]
  },
  {
   "cell_type": "code",
   "execution_count": 2,
   "id": "ea64a7de-6149-48f4-a6ed-ac6b890492b1",
   "metadata": {},
   "outputs": [],
   "source": [
    "# Group the MAE values by Model\n",
    "mae_groups = [group['MAE'].values for _, group in data.groupby('Model')]"
   ]
  },
  {
   "cell_type": "code",
   "execution_count": 3,
   "id": "362f1476-4a92-4e9e-ab90-7d126ce767c8",
   "metadata": {},
   "outputs": [],
   "source": [
    "# Perform the Kruskal-Wallis test\n",
    "stat, p_value = kruskal(*mae_groups)"
   ]
  },
  {
   "cell_type": "code",
   "execution_count": 4,
   "id": "376985ae-f15f-48f6-8088-c7f39af45541",
   "metadata": {},
   "outputs": [],
   "source": [
    "# Display the results\n",
    "kruskal_results = {\n",
    "    'Test Statistic': stat,\n",
    "    'p-value': p_value,\n",
    "    'Significance': 'Significant Difference' if p_value <= 0.05 else 'No Significant Difference'\n",
    "}"
   ]
  },
  {
   "cell_type": "code",
   "execution_count": 5,
   "id": "a21a1573-269e-473c-98c8-7608a55abc6a",
   "metadata": {},
   "outputs": [
    {
     "data": {
      "text/plain": [
       "{'Test Statistic': 7.0,\n",
       " 'p-value': 0.428879857553055,\n",
       " 'Significance': 'No Significant Difference'}"
      ]
     },
     "execution_count": 5,
     "metadata": {},
     "output_type": "execute_result"
    }
   ],
   "source": [
    "\n",
    "kruskal_results"
   ]
  },
  {
   "cell_type": "code",
   "execution_count": null,
   "id": "461bb8f1-20f5-4058-9a6f-6da597aad968",
   "metadata": {},
   "outputs": [],
   "source": []
  }
 ],
 "metadata": {
  "kernelspec": {
   "display_name": "Python 3 (ipykernel)",
   "language": "python",
   "name": "python3"
  },
  "language_info": {
   "codemirror_mode": {
    "name": "ipython",
    "version": 3
   },
   "file_extension": ".py",
   "mimetype": "text/x-python",
   "name": "python",
   "nbconvert_exporter": "python",
   "pygments_lexer": "ipython3",
   "version": "3.12.4"
  }
 },
 "nbformat": 4,
 "nbformat_minor": 5
}
