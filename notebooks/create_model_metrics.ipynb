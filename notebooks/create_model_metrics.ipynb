{
 "cells": [
  {
   "cell_type": "code",
   "execution_count": 1,
   "id": "f58ba8e8-742e-4cfe-ae9d-fc46bedb6f1f",
   "metadata": {},
   "outputs": [],
   "source": [
    "import os\n",
    "import pandas as pd"
   ]
  },
  {
   "cell_type": "code",
   "execution_count": 2,
   "id": "97ca8995-3f7b-414c-ba01-85b871ae96b6",
   "metadata": {},
   "outputs": [],
   "source": [
    "df = pd.DataFrame(columns=['Stock', 'MAE','MAPE','MSE', 'RMSE', 'R2'])"
   ]
  },
  {
   "cell_type": "code",
   "execution_count": 5,
   "id": "061732fd-22fa-4307-97f1-6db49528deb7",
   "metadata": {},
   "outputs": [],
   "source": [
    "df.to_csv('D:/SAMLFRFM/notebooks/metrics/rf.csv', index = False)"
   ]
  },
  {
   "cell_type": "code",
   "execution_count": 6,
   "id": "407f6806-7b25-49dc-a90a-e230b259c09c",
   "metadata": {},
   "outputs": [],
   "source": [
    "df.to_csv('D:/SAMLFRFM/notebooks/metrics/svm.csv', index = False)"
   ]
  },
  {
   "cell_type": "code",
   "execution_count": 7,
   "id": "1e39de60-111d-42dd-84e8-f291f5ca04e3",
   "metadata": {},
   "outputs": [],
   "source": [
    "df.to_csv('D:/SAMLFRFM/notebooks/metrics/dt.csv', index = False)"
   ]
  },
  {
   "cell_type": "code",
   "execution_count": 8,
   "id": "9547d441-1161-4227-be21-c37de2595e4b",
   "metadata": {},
   "outputs": [],
   "source": [
    "df.to_csv('D:/SAMLFRFM/notebooks/metrics/knn.csv', index = False)"
   ]
  },
  {
   "cell_type": "code",
   "execution_count": 9,
   "id": "937f39f0-863f-483d-9b87-422c98295e25",
   "metadata": {},
   "outputs": [],
   "source": [
    "df.to_csv('D:/SAMLFRFM/notebooks/metrics/arima.csv', index = False)"
   ]
  },
  {
   "cell_type": "code",
   "execution_count": 10,
   "id": "be1f4744-ba89-4c66-b43e-d636630d361e",
   "metadata": {},
   "outputs": [],
   "source": [
    "df.to_csv('D:/SAMLFRFM/notebooks/metrics/lstm.csv', index = False)"
   ]
  },
  {
   "cell_type": "code",
   "execution_count": 11,
   "id": "1f78adc1-5a30-48f0-a863-b8f33f415245",
   "metadata": {},
   "outputs": [],
   "source": [
    "df.to_csv('D:/SAMLFRFM/notebooks/metrics/gru.csv', index = False)"
   ]
  },
  {
   "cell_type": "code",
   "execution_count": 12,
   "id": "e3a88928-882a-4817-839c-3595d9f597d0",
   "metadata": {},
   "outputs": [],
   "source": [
    "df.to_csv('D:/SAMLFRFM/notebooks/metrics/xgboost.csv', index = False)"
   ]
  },
  {
   "cell_type": "code",
   "execution_count": 13,
   "id": "f495adf6-ad2b-4cf1-af47-0b8a2a9fe0e3",
   "metadata": {},
   "outputs": [],
   "source": [
    "df.to_csv('D:/SAMLFRFM/notebooks/metrics/reg.csv', index = False)"
   ]
  },
  {
   "cell_type": "code",
   "execution_count": null,
   "id": "922c712f-4f32-4435-b57c-2cbd0fea5f2b",
   "metadata": {},
   "outputs": [],
   "source": []
  }
 ],
 "metadata": {
  "kernelspec": {
   "display_name": "Python 3 (ipykernel)",
   "language": "python",
   "name": "python3"
  },
  "language_info": {
   "codemirror_mode": {
    "name": "ipython",
    "version": 3
   },
   "file_extension": ".py",
   "mimetype": "text/x-python",
   "name": "python",
   "nbconvert_exporter": "python",
   "pygments_lexer": "ipython3",
   "version": "3.12.4"
  }
 },
 "nbformat": 4,
 "nbformat_minor": 5
}
